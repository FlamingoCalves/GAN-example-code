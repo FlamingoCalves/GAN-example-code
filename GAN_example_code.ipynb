{
 "cells": [
  {
   "cell_type": "code",
   "execution_count": 3,
   "metadata": {},
   "outputs": [
    {
     "data": {
      "image/png": "[encoded data removed]",
      "text/plain": [
       "<Figure size 640x480 with 1 Axes>"
      ]
     },
     "metadata": {},
     "output_type": "display_data"
    },
    {
     "name": "stdout",
     "output_type": "stream",
     "text": [
      "Example of the array structure for the Red channel:\n",
      "[[255   0   0]\n",
      " [255   0   0]\n",
      " [255   0   0]\n",
      " [255   0   0]\n",
      " [255   0   0]\n",
      " [255   0   0]\n",
      " [255   0   0]\n",
      " [255   0   0]]\n"
     ]
    }
   ],
   "source": [
    "import numpy as np\n",
    "import matplotlib.pyplot as plt\n",
    "\n",
    "# Create a simple 8x8 colored image\n",
    "# This will use an 8x8x3 array to represent a colored pattern\n",
    "\n",
    "# Initialize the 8x8x3 array with zeros (black)\n",
    "colored_image_data = np.zeros((8, 8, 3), dtype=int)\n",
    "\n",
    "# Create a simple pattern: fill the first row with red, the second with green, and the third with blue\n",
    "colored_image_data[0, :, 0] = 255  # Red channel\n",
    "colored_image_data[1, :, 1] = 255  # Green channel\n",
    "colored_image_data[2, :, 2] = 255  # Blue channel\n",
    "\n",
    "# Display the colored image\n",
    "plt.imshow(colored_image_data)\n",
    "plt.title('Simple 8x8 Colored Image')\n",
    "plt.axis('off') \n",
    "plt.show()\n",
    "\n",
    "# Display the array structure for the red channel as an example\n",
    "print(\"Example of the array structure for the Red channel:\")\n",
    "print(colored_image_data[0, :, :])"
   ]
  },
  {
   "cell_type": "code",
   "execution_count": 5,
   "metadata": {},
   "outputs": [
    {
     "name": "stdout",
     "output_type": "stream",
     "text": [
      "The whole image:\n"
     ]
    },
    {
     "data": {
      "text/plain": [
       "array([[[255,   0,   0],\n",
       "        [255,   0,   0],\n",
       "        [255,   0,   0],\n",
       "        [255,   0,   0],\n",
       "        [255,   0,   0],\n",
       "        [255,   0,   0],\n",
       "        [255,   0,   0],\n",
       "        [255,   0,   0]],\n",
       "\n",
       "       [[  0, 255,   0],\n",
       "        [  0, 255,   0],\n",
       "        [  0, 255,   0],\n",
       "        [  0, 255,   0],\n",
       "        [  0, 255,   0],\n",
       "        [  0, 255,   0],\n",
       "        [  0, 255,   0],\n",
       "        [  0, 255,   0]],\n",
       "\n",
       "       [[  0,   0, 255],\n",
       "        [  0,   0, 255],\n",
       "        [  0,   0, 255],\n",
       "        [  0,   0, 255],\n",
       "        [  0,   0, 255],\n",
       "        [  0,   0, 255],\n",
       "        [  0,   0, 255],\n",
       "        [  0,   0, 255]],\n",
       "\n",
       "       [[  0,   0,   0],\n",
       "        [  0,   0,   0],\n",
       "        [  0,   0,   0],\n",
       "        [  0,   0,   0],\n",
       "        [  0,   0,   0],\n",
       "        [  0,   0,   0],\n",
       "        [  0,   0,   0],\n",
       "        [  0,   0,   0]],\n",
       "\n",
       "       [[  0,   0,   0],\n",
       "        [  0,   0,   0],\n",
       "        [  0,   0,   0],\n",
       "        [  0,   0,   0],\n",
       "        [  0,   0,   0],\n",
       "        [  0,   0,   0],\n",
       "        [  0,   0,   0],\n",
       "        [  0,   0,   0]],\n",
       "\n",
       "       [[  0,   0,   0],\n",
       "        [  0,   0,   0],\n",
       "        [  0,   0,   0],\n",
       "        [  0,   0,   0],\n",
       "        [  0,   0,   0],\n",
       "        [  0,   0,   0],\n",
       "        [  0,   0,   0],\n",
       "        [  0,   0,   0]],\n",
       "\n",
       "       [[  0,   0,   0],\n",
       "        [  0,   0,   0],\n",
       "        [  0,   0,   0],\n",
       "        [  0,   0,   0],\n",
       "        [  0,   0,   0],\n",
       "        [  0,   0,   0],\n",
       "        [  0,   0,   0],\n",
       "        [  0,   0,   0]],\n",
       "\n",
       "       [[  0,   0,   0],\n",
       "        [  0,   0,   0],\n",
       "        [  0,   0,   0],\n",
       "        [  0,   0,   0],\n",
       "        [  0,   0,   0],\n",
       "        [  0,   0,   0],\n",
       "        [  0,   0,   0],\n",
       "        [  0,   0,   0]]])"
      ]
     },
     "execution_count": 5,
     "metadata": {},
     "output_type": "execute_result"
    }
   ],
   "source": [
    "print(\"The whole image:\")\n",
    "colored_image_data"
   ]
  },
  {
   "cell_type": "code",
   "execution_count": 8,
   "metadata": {},
   "outputs": [
    {
     "name": "stdout",
     "output_type": "stream",
     "text": [
      "This is what a Random Noise Vector looks like: \n",
      " [-0.76687897  1.5144554   0.67207234  0.62941111 -3.03852285] ...\n"
     ]
    }
   ],
   "source": [
    "# Generate a simple random noise vector\n",
    "noise_vector_size = 100  # Size of the noise vector\n",
    "random_noise_vector = np.random.normal(0, 1, noise_vector_size)  # Sample from a normal distribution\n",
    "\n",
    "# Just for demonstration\n",
    "print(\"This is what a Random Noise Vector looks like: \\n\", random_noise_vector[:5], \"...\")  # Show just the first 5 elements for brevity"
   ]
  },
  {
   "cell_type": "markdown",
   "metadata": {},
   "source": [
    "#### Here is a simple example of how a random set of 4 numbers can be transformed into a 2x2 pixel image. Look at all the weights we need to make something this simple!"
   ]
  },
  {
   "cell_type": "code",
   "execution_count": 15,
   "metadata": {},
   "outputs": [
    {
     "data": {
      "text/plain": [
       "array([[[ 0.68, -0.37,  0.33],\n",
       "        [ 0.58, -0.44,  0.7 ]],\n",
       "\n",
       "       [[-0.51,  0.53, -0.05],\n",
       "        [ 0.26, -0.24,  0.84]]])"
      ]
     },
     "execution_count": 15,
     "metadata": {},
     "output_type": "execute_result"
    }
   ],
   "source": [
    "# Example: Pretend we're starting with a simple 1D noise vector of size 4\n",
    "noise_vector = np.array([0.5, -0.1, 0.3, 0.7])\n",
    "\n",
    "# Pretend weights for a dense layer that will transform the 1D noise vector into a format\n",
    "# that can be reshaped into a 3D array (e.g., for a very small 2x2 image with 3 color channels, we need 2*2*3 = 12 values)\n",
    "weights = np.array([\n",
    "    [0.2, -0.5, 0.1, 0.4, -0.3, 0.7, -0.6, 0.2, 0.1, -0.2, 0.4, 0.5],\n",
    "    [-0.1, 0.3, -0.4, 0.5, 0.2, -0.7, 0.6, -0.1, 0.4, 0.3, -0.5, -0.2],\n",
    "    [0.4, -0.2, 0.6, -0.3, 0.7, -0.1, 0.5, -0.4, 0.2, 0.5, -0.6, 0.3],\n",
    "    [0.5, 0.1, -0.2, 0.6, -0.4, 0.3, -0.5, 0.7, -0.1, 0.2, -0.3, 0.4]\n",
    "])\n",
    "\n",
    "# Bias for the dense layer (one value for each of the 12 outputs)\n",
    "bias = np.array([0.1, -0.1, 0.2, 0.1, -0.2, 0.1, 0.05, 0.05, -0.05, 0.1, -0.1, 0.2])\n",
    "\n",
    "# Transformation using the dense layer (weights and bias)\n",
    "# This operation transforms the noise vector into a \"flattened\" image representation\n",
    "transformed_vector = np.dot(noise_vector, weights) + bias\n",
    "\n",
    "# Reshape the transformed vector into a 3D array to simulate an image\n",
    "# For the purpose of this example, we're pretending the target image is 2x2 pixels with 3 color channels\n",
    "transformed_image = transformed_vector.reshape((2, 2, 3))\n",
    "\n",
    "transformed_image"
   ]
  },
  {
   "cell_type": "code",
   "execution_count": 12,
   "metadata": {},
   "outputs": [
    {
     "name": "stdout",
     "output_type": "stream",
     "text": [
      "This is a simplified example of what can happen in the convolution layers of the discriminator. \n",
      "It filters parts of the image out and finds relevant features:\n"
     ]
    },
    {
     "data": {
      "image/png": "[encoded data removed]",
      "text/plain": [
       "<Figure size 1200x600 with 2 Axes>"
      ]
     },
     "metadata": {},
     "output_type": "display_data"
    }
   ],
   "source": [
    "import numpy as np\n",
    "import matplotlib.pyplot as plt\n",
    "\n",
    "# Simple 8x8x3 colored image\n",
    "colored_image_data = np.zeros((8, 8, 3), dtype=int)\n",
    "colored_image_data[0, :, 0] = 255  # Red channel in the first row\n",
    "colored_image_data[1, :, 1] = 255  # Green channel in the second row\n",
    "colored_image_data[2, :, 2] = 255  # Blue channel in the third row\n",
    "\n",
    "# Simple edge-detection filter (3x3 matrix)\n",
    "edge_filter = np.array([[-1, -1, -1],\n",
    "                        [-1, 8, -1],\n",
    "                        [-1, -1, -1]])\n",
    "\n",
    "# Applying the filter manually to a single channel for simplicity\n",
    "# Note: In practice, convolutional operations are done using deep learning libraries that handle these efficiently\n",
    "def apply_filter(image, filter):\n",
    "    # Assuming the image and filter are square for simplicity\n",
    "    image_height, image_width = image.shape\n",
    "    filter_size = filter.shape[0]\n",
    "    output_size = image_height - filter_size + 1\n",
    "    output = np.zeros((output_size, output_size))\n",
    "    \n",
    "    # Convolution operation\n",
    "    for i in range(output_size):\n",
    "        for j in range(output_size):\n",
    "            # Extract the current region of interest\n",
    "            region = image[i:i+filter_size, j:j+filter_size]\n",
    "            # Apply the filter (element-wise multiplication and sum)\n",
    "            output[i, j] = np.sum(region * filter)\n",
    "    \n",
    "    return output\n",
    "\n",
    "# Apply the filter to the red channel of our image\n",
    "filtered_image = apply_filter(colored_image_data[:, :, 0], edge_filter)\n",
    "\n",
    "print(\"This is a simplified example of what can happen in the convolution layers of the discriminator. \\nIt filters parts of the image out and finds relevant features:\")\n",
    "# Visualize the original and filtered image\n",
    "plt.figure(figsize=(12, 6))\n",
    "plt.subplot(1, 2, 1)\n",
    "plt.imshow(colored_image_data)\n",
    "plt.title('Original Image')\n",
    "plt.axis('off')\n",
    "\n",
    "plt.subplot(1, 2, 2)\n",
    "plt.imshow(filtered_image, cmap='gray')\n",
    "plt.title('Filtered Image (Red Channel)')\n",
    "plt.axis('off')\n",
    "\n",
    "plt.show()"
   ]
  },
  {
   "cell_type": "markdown",
   "metadata": {},
   "source": [
    "#### This is pseudo-code to show how a GAN model works. The generator and discriminators get initialized, and then we set up functions to move through them. Once we have that set up, we can set up loss functions that calculate how different the real images are from the generated images. Once we have the loss calculated (called the loss gradient), we can use that to update the weights that we use to transform the random noise vector in the generator."
   ]
  },
  {
   "cell_type": "code",
   "execution_count": null,
   "metadata": {},
   "outputs": [],
   "source": [
    "import some_deep_learning_library as dl\n",
    "\n",
    "# Pseudo-code for a simple GAN\n",
    "\n",
    "class Generator():\n",
    "    def __init__(self, noise_dim):\n",
    "        # Initialize layers using a deep learning library\n",
    "        self.dense = dl.DenseLayer(noise_dim, some_output_dim)\n",
    "        self.conv1 = dl.ConvTransposeLayer(filters=64, kernel_size=(5, 5))\n",
    "        # ... more layers as needed, possibly with BatchNorm and ReLU\n",
    "        self.output = dl.ConvTransposeLayer(filters=3, kernel_size=(5, 5), activation='tanh')\n",
    "\n",
    "    def forward(self, z):\n",
    "        # Pass the noise through the network to generate an image\n",
    "        x = self.dense(z)\n",
    "        x = self.conv1(x)\n",
    "        # ... more layers as needed\n",
    "        image = self.output(x)\n",
    "        return image\n",
    "\n",
    "\n",
    "class Discriminator():\n",
    "    def __init__(self, image_shape):\n",
    "        # Initialize layers using a deep learning library\n",
    "        self.conv1 = dl.ConvLayer(filters=64, kernel_size=(5, 5))\n",
    "        # ... more layers as needed, possibly with LeakyReLU\n",
    "        self.output = dl.DenseLayer(some_input_dim, 1, activation='sigmoid')\n",
    "\n",
    "    def forward(self, image):\n",
    "        # Pass the image through the network to classify as real or fake\n",
    "        x = self.conv1(image)\n",
    "        # ... more layers as needed\n",
    "        real_or_fake = self.output(x)\n",
    "        return real_or_fake\n",
    "\n",
    "\n",
    "# Initialize the generator and discriminator\n",
    "generator = Generator(noise_dim=100)\n",
    "discriminator = Discriminator(image_shape=(64, 64, 3))\n",
    "\n",
    "# Pseudo code for the training loop\n",
    "for epoch in range(num_epochs):\n",
    "    for real_images in data_loader:\n",
    "\n",
    "        # Generate fake images\n",
    "        noise = dl.random_noise(batch_size, noise_dim)\n",
    "        fake_images = generator.forward(noise)\n",
    "\n",
    "        # Train the discriminator\n",
    "        # Maximize log(D(x)) + log(1 - D(G(z)))\n",
    "        discriminator_loss = dl.compute_loss(real_images, fake_images)\n",
    "\n",
    "        # Update discriminator parameters\n",
    "        discriminator.update_params(discriminator_loss)\n",
    "\n",
    "        # Train the generator\n",
    "        # Minimize log(1 - D(G(z))) or equivalently maximize log(D(G(z)))\n",
    "        noise = dl.random_noise(batch_size, noise_dim)\n",
    "        fake_images = generator.forward(noise)\n",
    "        generator_loss = dl.compute_loss(discriminator.forward(fake_images))\n",
    "\n",
    "        # Update generator parameters\n",
    "        generator.update_params(generator_loss)\n",
    "\n",
    "        # Log progress, save models, generate sample images, etc."
   ]
  }
 ],
 "metadata": {
  "kernelspec": {
   "display_name": "stable_diff_venv",
   "language": "python",
   "name": "python3"
  },
  "language_info": {
   "codemirror_mode": {
    "name": "ipython",
    "version": 3
   },
   "file_extension": ".py",
   "mimetype": "text/x-python",
   "name": "python",
   "nbconvert_exporter": "python",
   "pygments_lexer": "ipython3",
   "version": "3.9.6"
  }
 },
 "nbformat": 4,
 "nbformat_minor": 2
}
